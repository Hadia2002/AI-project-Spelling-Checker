{
 "cells": [
  {
   "cell_type": "code",
   "execution_count": 1,
   "id": "67d1d0f2",
   "metadata": {},
   "outputs": [],
   "source": [
    "#Importing modules\n",
    "from textblob import TextBlob\n",
    "from tkinter import *\n",
    "\n",
    "#Function to check the spelling and show the corrected spelling\n",
    "def checkSpelling():\n",
    "    a = text.get() #Getting the word user entered\n",
    "    b = TextBlob(a) #Getting the object for the word\n",
    "    correctedText.set(\"The corrected word is: \"+str(b.correct())) #Showing the corrected word\n",
    "\n",
    "\n",
    "window = Tk()\n",
    "window.title(\"Spell Checker\")\n",
    "window.geometry('500x250')\n",
    "window.config(bg='SkyBlue')\n",
    "\n",
    "#Creating the variables to get the word and set the correct word\n",
    "text=StringVar()\n",
    "correctedText =StringVar(window)\n",
    "\n",
    "#The main label\n",
    "Label(window, text='DataFlair Spell Checker',bg='SkyBlue',\n",
    "fg='gray30', font=('Times', 20,'bold')).place(x=100, y=10)\n",
    "\n",
    "#Getting the input of word from the user\n",
    "Label(window, text='Please enter the word',bg='SkyBlue',font=('calibre',13,'normal'), anchor=\"e\", justify=LEFT).place(x=20, y=70)\n",
    "\n",
    "Entry(window,textvariable=text, width=35,font=('calibre',13,'normal')).place(x=20,y=110)\n",
    "\n",
    "#Label to show the correct word\n",
    "opLabel = Label(window, textvariable=correctedText, bg='SkyBlue',anchor=\"e\",font=('calibre',13,'normal'), justify=LEFT).place(x=20, y=130)\n",
    "\n",
    "Button(window, text= \"Click Me\", bg = 'blue', font = ('calibre',13),command=checkSpelling).place(x=230, y=190)\n",
    "\n",
    "\n",
    "\n",
    "#Runs the window till it is closed by the user\n",
    "window.mainloop()\n"
   ]
  },
  {
   "cell_type": "code",
   "execution_count": null,
   "id": "521593e3",
   "metadata": {},
   "outputs": [],
   "source": []
  }
 ],
 "metadata": {
  "kernelspec": {
   "display_name": "Python 3",
   "language": "python",
   "name": "python3"
  },
  "language_info": {
   "codemirror_mode": {
    "name": "ipython",
    "version": 3
   },
   "file_extension": ".py",
   "mimetype": "text/x-python",
   "name": "python",
   "nbconvert_exporter": "python",
   "pygments_lexer": "ipython3",
   "version": "3.8.8"
  }
 },
 "nbformat": 4,
 "nbformat_minor": 5
}
